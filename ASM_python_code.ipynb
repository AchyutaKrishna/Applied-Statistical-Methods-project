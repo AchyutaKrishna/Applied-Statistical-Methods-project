{
 "cells": [
  {
   "cell_type": "code",
   "execution_count": 202,
   "metadata": {},
   "outputs": [],
   "source": [
    "import pandas as pd\n",
    "import numpy as np\n",
    "from sklearn.cluster import KMeans\n",
    "import matplotlib.pyplot as plt\n",
    "import pingouin as pg\n",
    "from math import sqrt\n",
    "from numpy.random import seed\n",
    "from numpy.random import randn\n",
    "from numpy import mean\n",
    "from scipy.stats import sem\n",
    "from scipy.stats import t\n",
    "import statsmodels.api as sm\n",
    "from statsmodels.formula.api import logit\n",
    "from sklearn.metrics import classification_report, accuracy_score\n",
    "from sklearn.discriminant_analysis import LinearDiscriminantAnalysis as LDA\n",
    "from sklearn.metrics import confusion_matrix, classification_report, precision_score\n",
    "from sklearn.cluster import KMeans"
   ]
  },
  {
   "cell_type": "code",
   "execution_count": 68,
   "metadata": {},
   "outputs": [],
   "source": [
    "import warnings\n",
    "warnings.filterwarnings('ignore')"
   ]
  },
  {
   "cell_type": "markdown",
   "metadata": {},
   "source": [
    "# Reading and summarizing the dataset"
   ]
  },
  {
   "cell_type": "code",
   "execution_count": 234,
   "metadata": {},
   "outputs": [
    {
     "data": {
      "text/html": [
       "<div>\n",
       "<style scoped>\n",
       "    .dataframe tbody tr th:only-of-type {\n",
       "        vertical-align: middle;\n",
       "    }\n",
       "\n",
       "    .dataframe tbody tr th {\n",
       "        vertical-align: top;\n",
       "    }\n",
       "\n",
       "    .dataframe thead th {\n",
       "        text-align: right;\n",
       "    }\n",
       "</style>\n",
       "<table border=\"1\" class=\"dataframe\">\n",
       "  <thead>\n",
       "    <tr style=\"text-align: right;\">\n",
       "      <th></th>\n",
       "      <th>Age</th>\n",
       "      <th>creatine_Kinase</th>\n",
       "      <th>Hemopexin</th>\n",
       "      <th>Pyrovate_Kinase</th>\n",
       "      <th>Carrier</th>\n",
       "    </tr>\n",
       "  </thead>\n",
       "  <tbody>\n",
       "    <tr>\n",
       "      <th>0</th>\n",
       "      <td>27</td>\n",
       "      <td>22.0</td>\n",
       "      <td>99.0</td>\n",
       "      <td>11.0</td>\n",
       "      <td>0</td>\n",
       "    </tr>\n",
       "    <tr>\n",
       "      <th>1</th>\n",
       "      <td>31</td>\n",
       "      <td>29.0</td>\n",
       "      <td>94.0</td>\n",
       "      <td>12.0</td>\n",
       "      <td>0</td>\n",
       "    </tr>\n",
       "    <tr>\n",
       "      <th>2</th>\n",
       "      <td>22</td>\n",
       "      <td>22.0</td>\n",
       "      <td>85.5</td>\n",
       "      <td>15.0</td>\n",
       "      <td>0</td>\n",
       "    </tr>\n",
       "    <tr>\n",
       "      <th>3</th>\n",
       "      <td>25</td>\n",
       "      <td>41.0</td>\n",
       "      <td>87.3</td>\n",
       "      <td>15.0</td>\n",
       "      <td>0</td>\n",
       "    </tr>\n",
       "    <tr>\n",
       "      <th>4</th>\n",
       "      <td>26</td>\n",
       "      <td>28.0</td>\n",
       "      <td>93.5</td>\n",
       "      <td>7.0</td>\n",
       "      <td>0</td>\n",
       "    </tr>\n",
       "  </tbody>\n",
       "</table>\n",
       "</div>"
      ],
      "text/plain": [
       "   Age  creatine_Kinase  Hemopexin  Pyrovate_Kinase  Carrier\n",
       "0   27             22.0       99.0             11.0        0\n",
       "1   31             29.0       94.0             12.0        0\n",
       "2   22             22.0       85.5             15.0        0\n",
       "3   25             41.0       87.3             15.0        0\n",
       "4   26             28.0       93.5              7.0        0"
      ]
     },
     "execution_count": 234,
     "metadata": {},
     "output_type": "execute_result"
    }
   ],
   "source": [
    "data = pd.read_excel('Muscular Data_Project_10.xlsx') # import the dataset\n",
    "data.head()"
   ]
  },
  {
   "cell_type": "code",
   "execution_count": 235,
   "metadata": {},
   "outputs": [
    {
     "data": {
      "text/plain": [
       "0    134\n",
       "1     75\n",
       "Name: Carrier, dtype: int64"
      ]
     },
     "execution_count": 235,
     "metadata": {},
     "output_type": "execute_result"
    }
   ],
   "source": [
    "data['Carrier'].value_counts()"
   ]
  },
  {
   "cell_type": "code",
   "execution_count": 236,
   "metadata": {},
   "outputs": [
    {
     "data": {
      "text/html": [
       "<div>\n",
       "<style scoped>\n",
       "    .dataframe tbody tr th:only-of-type {\n",
       "        vertical-align: middle;\n",
       "    }\n",
       "\n",
       "    .dataframe tbody tr th {\n",
       "        vertical-align: top;\n",
       "    }\n",
       "\n",
       "    .dataframe thead th {\n",
       "        text-align: right;\n",
       "    }\n",
       "</style>\n",
       "<table border=\"1\" class=\"dataframe\">\n",
       "  <thead>\n",
       "    <tr style=\"text-align: right;\">\n",
       "      <th></th>\n",
       "      <th>Age</th>\n",
       "      <th>creatine_Kinase</th>\n",
       "      <th>Hemopexin</th>\n",
       "      <th>Pyrovate_Kinase</th>\n",
       "      <th>Carrier</th>\n",
       "    </tr>\n",
       "  </thead>\n",
       "  <tbody>\n",
       "    <tr>\n",
       "      <th>count</th>\n",
       "      <td>209.000000</td>\n",
       "      <td>209.000000</td>\n",
       "      <td>209.000000</td>\n",
       "      <td>201.000000</td>\n",
       "      <td>209.000000</td>\n",
       "    </tr>\n",
       "    <tr>\n",
       "      <th>mean</th>\n",
       "      <td>32.157895</td>\n",
       "      <td>92.260766</td>\n",
       "      <td>84.283828</td>\n",
       "      <td>16.109453</td>\n",
       "      <td>0.358852</td>\n",
       "    </tr>\n",
       "    <tr>\n",
       "      <th>std</th>\n",
       "      <td>8.572594</td>\n",
       "      <td>152.895531</td>\n",
       "      <td>17.063660</td>\n",
       "      <td>11.886882</td>\n",
       "      <td>0.480815</td>\n",
       "    </tr>\n",
       "    <tr>\n",
       "      <th>min</th>\n",
       "      <td>20.000000</td>\n",
       "      <td>15.000000</td>\n",
       "      <td>9.000000</td>\n",
       "      <td>3.000000</td>\n",
       "      <td>0.000000</td>\n",
       "    </tr>\n",
       "    <tr>\n",
       "      <th>25%</th>\n",
       "      <td>26.000000</td>\n",
       "      <td>30.000000</td>\n",
       "      <td>78.000000</td>\n",
       "      <td>10.000000</td>\n",
       "      <td>0.000000</td>\n",
       "    </tr>\n",
       "    <tr>\n",
       "      <th>50%</th>\n",
       "      <td>31.000000</td>\n",
       "      <td>41.000000</td>\n",
       "      <td>86.000000</td>\n",
       "      <td>14.000000</td>\n",
       "      <td>0.000000</td>\n",
       "    </tr>\n",
       "    <tr>\n",
       "      <th>75%</th>\n",
       "      <td>36.000000</td>\n",
       "      <td>73.000000</td>\n",
       "      <td>93.190000</td>\n",
       "      <td>17.000000</td>\n",
       "      <td>1.000000</td>\n",
       "    </tr>\n",
       "    <tr>\n",
       "      <th>max</th>\n",
       "      <td>61.000000</td>\n",
       "      <td>1288.000000</td>\n",
       "      <td>118.000000</td>\n",
       "      <td>110.000000</td>\n",
       "      <td>1.000000</td>\n",
       "    </tr>\n",
       "  </tbody>\n",
       "</table>\n",
       "</div>"
      ],
      "text/plain": [
       "              Age  creatine_Kinase   Hemopexin  Pyrovate_Kinase     Carrier\n",
       "count  209.000000       209.000000  209.000000       201.000000  209.000000\n",
       "mean    32.157895        92.260766   84.283828        16.109453    0.358852\n",
       "std      8.572594       152.895531   17.063660        11.886882    0.480815\n",
       "min     20.000000        15.000000    9.000000         3.000000    0.000000\n",
       "25%     26.000000        30.000000   78.000000        10.000000    0.000000\n",
       "50%     31.000000        41.000000   86.000000        14.000000    0.000000\n",
       "75%     36.000000        73.000000   93.190000        17.000000    1.000000\n",
       "max     61.000000      1288.000000  118.000000       110.000000    1.000000"
      ]
     },
     "execution_count": 236,
     "metadata": {},
     "output_type": "execute_result"
    }
   ],
   "source": [
    "data.describe()"
   ]
  },
  {
   "cell_type": "markdown",
   "metadata": {},
   "source": [
    "# Data preprocessing"
   ]
  },
  {
   "cell_type": "code",
   "execution_count": 237,
   "metadata": {},
   "outputs": [
    {
     "data": {
      "text/html": [
       "<div>\n",
       "<style scoped>\n",
       "    .dataframe tbody tr th:only-of-type {\n",
       "        vertical-align: middle;\n",
       "    }\n",
       "\n",
       "    .dataframe tbody tr th {\n",
       "        vertical-align: top;\n",
       "    }\n",
       "\n",
       "    .dataframe thead th {\n",
       "        text-align: right;\n",
       "    }\n",
       "</style>\n",
       "<table border=\"1\" class=\"dataframe\">\n",
       "  <thead>\n",
       "    <tr style=\"text-align: right;\">\n",
       "      <th></th>\n",
       "      <th>Age</th>\n",
       "      <th>creatine_Kinase</th>\n",
       "      <th>Hemopexin</th>\n",
       "      <th>Pyrovate_Kinase</th>\n",
       "      <th>Carrier</th>\n",
       "    </tr>\n",
       "  </thead>\n",
       "  <tbody>\n",
       "    <tr>\n",
       "      <th>0</th>\n",
       "      <td>27</td>\n",
       "      <td>22.0</td>\n",
       "      <td>99.0</td>\n",
       "      <td>11.0</td>\n",
       "      <td>0</td>\n",
       "    </tr>\n",
       "    <tr>\n",
       "      <th>1</th>\n",
       "      <td>31</td>\n",
       "      <td>29.0</td>\n",
       "      <td>94.0</td>\n",
       "      <td>12.0</td>\n",
       "      <td>0</td>\n",
       "    </tr>\n",
       "    <tr>\n",
       "      <th>2</th>\n",
       "      <td>22</td>\n",
       "      <td>22.0</td>\n",
       "      <td>85.5</td>\n",
       "      <td>15.0</td>\n",
       "      <td>0</td>\n",
       "    </tr>\n",
       "    <tr>\n",
       "      <th>3</th>\n",
       "      <td>25</td>\n",
       "      <td>41.0</td>\n",
       "      <td>87.3</td>\n",
       "      <td>15.0</td>\n",
       "      <td>0</td>\n",
       "    </tr>\n",
       "    <tr>\n",
       "      <th>4</th>\n",
       "      <td>26</td>\n",
       "      <td>28.0</td>\n",
       "      <td>93.5</td>\n",
       "      <td>7.0</td>\n",
       "      <td>0</td>\n",
       "    </tr>\n",
       "  </tbody>\n",
       "</table>\n",
       "</div>"
      ],
      "text/plain": [
       "   Age  creatine_Kinase  Hemopexin  Pyrovate_Kinase  Carrier\n",
       "0   27             22.0       99.0             11.0        0\n",
       "1   31             29.0       94.0             12.0        0\n",
       "2   22             22.0       85.5             15.0        0\n",
       "3   25             41.0       87.3             15.0        0\n",
       "4   26             28.0       93.5              7.0        0"
      ]
     },
     "execution_count": 237,
     "metadata": {},
     "output_type": "execute_result"
    }
   ],
   "source": [
    "data = data.fillna(data.mean())   # Replace missing values with mean of that column\n",
    "data.head()"
   ]
  },
  {
   "cell_type": "code",
   "execution_count": 238,
   "metadata": {},
   "outputs": [
    {
     "data": {
      "text/html": [
       "<div>\n",
       "<style scoped>\n",
       "    .dataframe tbody tr th:only-of-type {\n",
       "        vertical-align: middle;\n",
       "    }\n",
       "\n",
       "    .dataframe tbody tr th {\n",
       "        vertical-align: top;\n",
       "    }\n",
       "\n",
       "    .dataframe thead th {\n",
       "        text-align: right;\n",
       "    }\n",
       "</style>\n",
       "<table border=\"1\" class=\"dataframe\">\n",
       "  <thead>\n",
       "    <tr style=\"text-align: right;\">\n",
       "      <th></th>\n",
       "      <th>Age</th>\n",
       "      <th>creatine_Kinase</th>\n",
       "      <th>Hemopexin</th>\n",
       "      <th>Pyrovate_Kinase</th>\n",
       "      <th>Carrier</th>\n",
       "    </tr>\n",
       "  </thead>\n",
       "  <tbody>\n",
       "    <tr>\n",
       "      <th>count</th>\n",
       "      <td>209.000000</td>\n",
       "      <td>209.000000</td>\n",
       "      <td>209.000000</td>\n",
       "      <td>209.000000</td>\n",
       "      <td>209.000000</td>\n",
       "    </tr>\n",
       "    <tr>\n",
       "      <th>mean</th>\n",
       "      <td>32.157895</td>\n",
       "      <td>92.260766</td>\n",
       "      <td>84.283828</td>\n",
       "      <td>16.109453</td>\n",
       "      <td>0.358852</td>\n",
       "    </tr>\n",
       "    <tr>\n",
       "      <th>std</th>\n",
       "      <td>8.572594</td>\n",
       "      <td>152.895531</td>\n",
       "      <td>17.063660</td>\n",
       "      <td>11.656047</td>\n",
       "      <td>0.480815</td>\n",
       "    </tr>\n",
       "    <tr>\n",
       "      <th>min</th>\n",
       "      <td>20.000000</td>\n",
       "      <td>15.000000</td>\n",
       "      <td>9.000000</td>\n",
       "      <td>3.000000</td>\n",
       "      <td>0.000000</td>\n",
       "    </tr>\n",
       "    <tr>\n",
       "      <th>25%</th>\n",
       "      <td>26.000000</td>\n",
       "      <td>30.000000</td>\n",
       "      <td>78.000000</td>\n",
       "      <td>11.000000</td>\n",
       "      <td>0.000000</td>\n",
       "    </tr>\n",
       "    <tr>\n",
       "      <th>50%</th>\n",
       "      <td>31.000000</td>\n",
       "      <td>41.000000</td>\n",
       "      <td>86.000000</td>\n",
       "      <td>14.000000</td>\n",
       "      <td>0.000000</td>\n",
       "    </tr>\n",
       "    <tr>\n",
       "      <th>75%</th>\n",
       "      <td>36.000000</td>\n",
       "      <td>73.000000</td>\n",
       "      <td>93.190000</td>\n",
       "      <td>17.000000</td>\n",
       "      <td>1.000000</td>\n",
       "    </tr>\n",
       "    <tr>\n",
       "      <th>max</th>\n",
       "      <td>61.000000</td>\n",
       "      <td>1288.000000</td>\n",
       "      <td>118.000000</td>\n",
       "      <td>110.000000</td>\n",
       "      <td>1.000000</td>\n",
       "    </tr>\n",
       "  </tbody>\n",
       "</table>\n",
       "</div>"
      ],
      "text/plain": [
       "              Age  creatine_Kinase   Hemopexin  Pyrovate_Kinase     Carrier\n",
       "count  209.000000       209.000000  209.000000       209.000000  209.000000\n",
       "mean    32.157895        92.260766   84.283828        16.109453    0.358852\n",
       "std      8.572594       152.895531   17.063660        11.656047    0.480815\n",
       "min     20.000000        15.000000    9.000000         3.000000    0.000000\n",
       "25%     26.000000        30.000000   78.000000        11.000000    0.000000\n",
       "50%     31.000000        41.000000   86.000000        14.000000    0.000000\n",
       "75%     36.000000        73.000000   93.190000        17.000000    1.000000\n",
       "max     61.000000      1288.000000  118.000000       110.000000    1.000000"
      ]
     },
     "execution_count": 238,
     "metadata": {},
     "output_type": "execute_result"
    }
   ],
   "source": [
    "data.describe()"
   ]
  },
  {
   "cell_type": "code",
   "execution_count": 314,
   "metadata": {},
   "outputs": [
    {
     "data": {
      "text/plain": [
       "Text(0, 0.5, 'creatine kinase')"
      ]
     },
     "execution_count": 314,
     "metadata": {},
     "output_type": "execute_result"
    },
    {
     "data": {
      "image/png": "[encoded data removed]",
      "text/plain": [
       "<Figure size 432x288 with 1 Axes>"
      ]
     },
     "metadata": {
      "needs_background": "light"
     },
     "output_type": "display_data"
    }
   ],
   "source": [
    "plt.scatter(data.iloc[:, 0], data.iloc[:, 1],  s=50, cmap='viridis')\n",
    "plt.xlabel('Age')\n",
    "plt.ylabel('creatine kinase')"
   ]
  },
  {
   "cell_type": "code",
   "execution_count": 315,
   "metadata": {},
   "outputs": [
    {
     "data": {
      "text/plain": [
       "Text(0, 0.5, 'hemopexin')"
      ]
     },
     "execution_count": 315,
     "metadata": {},
     "output_type": "execute_result"
    },
    {
     "data": {
      "image/png": "[encoded data removed]",
      "text/plain": [
       "<Figure size 432x288 with 1 Axes>"
      ]
     },
     "metadata": {
      "needs_background": "light"
     },
     "output_type": "display_data"
    }
   ],
   "source": [
    "plt.scatter(data.iloc[:, 0], data.iloc[:, 2],  s=50, cmap='viridis')\n",
    "plt.xlabel('Age')\n",
    "plt.ylabel('hemopexin')"
   ]
  },
  {
   "cell_type": "code",
   "execution_count": 316,
   "metadata": {},
   "outputs": [
    {
     "data": {
      "text/plain": [
       "Text(0, 0.5, 'pyrovate kinase')"
      ]
     },
     "execution_count": 316,
     "metadata": {},
     "output_type": "execute_result"
    },
    {
     "data": {
      "image/png": "[encoded data removed]",
      "text/plain": [
       "<Figure size 432x288 with 1 Axes>"
      ]
     },
     "metadata": {
      "needs_background": "light"
     },
     "output_type": "display_data"
    }
   ],
   "source": [
    "plt.scatter(data.iloc[:, 0], data.iloc[:, 3],  s=50, cmap='viridis')\n",
    "plt.xlabel('Age')\n",
    "plt.ylabel('pyrovate kinase')"
   ]
  },
  {
   "cell_type": "markdown",
   "metadata": {},
   "source": [
    "# Student's t-test"
   ]
  },
  {
   "cell_type": "code",
   "execution_count": 80,
   "metadata": {},
   "outputs": [],
   "source": [
    "# function for calculating the t-test for two independent samples\n",
    "def independent_ttest(data1, data2, alpha):\n",
    "    # calculate means\n",
    "    mean1, mean2 = mean(data1), mean(data2)\n",
    "    # calculate standard errors\n",
    "    se1, se2 = sem(data1), sem(data2)\n",
    "    # standard error on the difference between the samples\n",
    "    sed = sqrt(se1**2.0 + se2**2.0)\n",
    "    # calculate the t statistic\n",
    "    t_stat = (mean1 - mean2) / sed\n",
    "    # degrees of freedom\n",
    "    df = len(data1) + len(data2) - 2\n",
    "    # calculate the critical value\n",
    "    cv = t.ppf(1.0 - alpha, df)\n",
    "    # calculate the p-value\n",
    "    p = (1.0 - t.cdf(abs(t_stat), df)) * 2.0\n",
    "    print('t=%.3f, df=%d, cv=%.12f, p=%.12f' % (t_stat, df, cv, p))\n",
    "    # interpret via critical value\n",
    "    if abs(t_stat) <= cv:\n",
    "        print('Do not reject the null hypothesis that the means are equal.')\n",
    "    else:\n",
    "        print('Reject the null hypothesis that the means are equal.')\n",
    "    # return everything\n",
    "    #return t_stat, df, cv, p"
   ]
  },
  {
   "cell_type": "markdown",
   "metadata": {},
   "source": [
    "### Testing the significance of 'Age' in determining whether a person is a carrier or not"
   ]
  },
  {
   "cell_type": "code",
   "execution_count": 81,
   "metadata": {},
   "outputs": [
    {
     "name": "stdout",
     "output_type": "stream",
     "text": [
      "t=-7.465, df=207, cv=1.652248085993, p=0.000000000002\n",
      "Reject the null hypothesis that the means are equal.\n"
     ]
    }
   ],
   "source": [
    "data1 = data['Age'][data['Carrier'] == 0]\n",
    "data2 = data['Age'][data['Carrier'] == 1]\n",
    "independent_ttest(data1, data2, 0.05)"
   ]
  },
  {
   "cell_type": "markdown",
   "metadata": {},
   "source": [
    "### Testing the significance of 'creatine_Kinase' in determining whether a person is a carrier or not"
   ]
  },
  {
   "cell_type": "code",
   "execution_count": 82,
   "metadata": {},
   "outputs": [
    {
     "name": "stdout",
     "output_type": "stream",
     "text": [
      "t=-5.675, df=207, cv=1.652248085993, p=0.000000046400\n",
      "Reject the null hypothesis that the means are equal.\n"
     ]
    }
   ],
   "source": [
    "data1 = data['creatine_Kinase'][data['Carrier'] == 0]\n",
    "data2 = data['creatine_Kinase'][data['Carrier'] == 1]\n",
    "independent_ttest(data1, data2, 0.05)"
   ]
  },
  {
   "cell_type": "markdown",
   "metadata": {},
   "source": [
    "### Testing the significance of 'Pyrovate_Kinase' in determining whether a person is a carrier or not"
   ]
  },
  {
   "cell_type": "code",
   "execution_count": 83,
   "metadata": {},
   "outputs": [
    {
     "name": "stdout",
     "output_type": "stream",
     "text": [
      "t=-5.646, df=207, cv=1.652248085993, p=0.000000053770\n",
      "Reject the null hypothesis that the means are equal.\n"
     ]
    }
   ],
   "source": [
    "data1 = data['Pyrovate_Kinase'][data['Carrier'] == 0]\n",
    "data2 = data['Pyrovate_Kinase'][data['Carrier'] == 1]\n",
    "independent_ttest(data1, data2, 0.05)"
   ]
  },
  {
   "cell_type": "markdown",
   "metadata": {},
   "source": [
    "### Testing the significance of 'Hemopexin' in determining whether a person is a carrier or not"
   ]
  },
  {
   "cell_type": "code",
   "execution_count": 84,
   "metadata": {},
   "outputs": [
    {
     "name": "stdout",
     "output_type": "stream",
     "text": [
      "t=-1.296, df=207, cv=1.652248085993, p=0.196270816554\n",
      "Do not reject the null hypothesis that the means are equal.\n"
     ]
    }
   ],
   "source": [
    "data1 = data['Hemopexin'][data['Carrier'] == 0]\n",
    "data2 = data['Hemopexin'][data['Carrier'] == 1]\n",
    "independent_ttest(data1, data2, 0.05)"
   ]
  },
  {
   "cell_type": "markdown",
   "metadata": {},
   "source": [
    "# Hotelling T-2 test"
   ]
  },
  {
   "cell_type": "code",
   "execution_count": 85,
   "metadata": {},
   "outputs": [],
   "source": [
    "dvs = ['Age', 'creatine_Kinase','Hemopexin', 'Pyrovate_Kinase']\n",
    "X = data[data['Carrier'] == 0][dvs]\n",
    "Y = data[data['Carrier'] == 1][dvs]"
   ]
  },
  {
   "cell_type": "code",
   "execution_count": 91,
   "metadata": {},
   "outputs": [
    {
     "name": "stdout",
     "output_type": "stream",
     "text": [
      "Mean : Carrier = '0'\n",
      "Age                28.813433\n",
      "creatine_Kinase    39.130597\n",
      "Hemopexin          82.944701\n",
      "Pyrovate_Kinase    12.186567\n",
      "dtype: float64\n"
     ]
    }
   ],
   "source": [
    "print('Mean : Carrier = \\'0\\'')\n",
    "print(X.mean())"
   ]
  },
  {
   "cell_type": "code",
   "execution_count": 96,
   "metadata": {},
   "outputs": [
    {
     "name": "stdout",
     "output_type": "stream",
     "text": [
      "Variance-Covariance matrix : Carrier = '0'\n"
     ]
    },
    {
     "data": {
      "text/html": [
       "<div>\n",
       "<style scoped>\n",
       "    .dataframe tbody tr th:only-of-type {\n",
       "        vertical-align: middle;\n",
       "    }\n",
       "\n",
       "    .dataframe tbody tr th {\n",
       "        vertical-align: top;\n",
       "    }\n",
       "\n",
       "    .dataframe thead th {\n",
       "        text-align: right;\n",
       "    }\n",
       "</style>\n",
       "<table border=\"1\" class=\"dataframe\">\n",
       "  <thead>\n",
       "    <tr style=\"text-align: right;\">\n",
       "      <th></th>\n",
       "      <th>Age</th>\n",
       "      <th>creatine_Kinase</th>\n",
       "      <th>Hemopexin</th>\n",
       "      <th>Pyrovate_Kinase</th>\n",
       "    </tr>\n",
       "  </thead>\n",
       "  <tbody>\n",
       "    <tr>\n",
       "      <th>Age</th>\n",
       "      <td>26.844630</td>\n",
       "      <td>-7.734850</td>\n",
       "      <td>12.204718</td>\n",
       "      <td>-2.506284</td>\n",
       "    </tr>\n",
       "    <tr>\n",
       "      <th>creatine_Kinase</th>\n",
       "      <td>-7.734850</td>\n",
       "      <td>335.691463</td>\n",
       "      <td>-76.397686</td>\n",
       "      <td>8.253647</td>\n",
       "    </tr>\n",
       "    <tr>\n",
       "      <th>Hemopexin</th>\n",
       "      <td>12.204718</td>\n",
       "      <td>-76.397686</td>\n",
       "      <td>151.877867</td>\n",
       "      <td>4.067688</td>\n",
       "    </tr>\n",
       "    <tr>\n",
       "      <th>Pyrovate_Kinase</th>\n",
       "      <td>-2.506284</td>\n",
       "      <td>8.253647</td>\n",
       "      <td>4.067688</td>\n",
       "      <td>18.619066</td>\n",
       "    </tr>\n",
       "  </tbody>\n",
       "</table>\n",
       "</div>"
      ],
      "text/plain": [
       "                       Age  creatine_Kinase   Hemopexin  Pyrovate_Kinase\n",
       "Age              26.844630        -7.734850   12.204718        -2.506284\n",
       "creatine_Kinase  -7.734850       335.691463  -76.397686         8.253647\n",
       "Hemopexin        12.204718       -76.397686  151.877867         4.067688\n",
       "Pyrovate_Kinase  -2.506284         8.253647    4.067688        18.619066"
      ]
     },
     "execution_count": 96,
     "metadata": {},
     "output_type": "execute_result"
    }
   ],
   "source": [
    "print('Variance-Covariance matrix : Carrier = \\'0\\'')\n",
    "X.cov()"
   ]
  },
  {
   "cell_type": "code",
   "execution_count": 95,
   "metadata": {},
   "outputs": [
    {
     "name": "stdout",
     "output_type": "stream",
     "text": [
      "Mean : Carrier = '1'\n",
      "Age                 38.133333\n",
      "creatine_Kinase    187.186667\n",
      "Hemopexin           86.676400\n",
      "Pyrovate_Kinase     23.118342\n",
      "dtype: float64\n"
     ]
    }
   ],
   "source": [
    "print('Mean : Carrier = \\'1\\'')\n",
    "print(Y.mean())"
   ]
  },
  {
   "cell_type": "code",
   "execution_count": 98,
   "metadata": {},
   "outputs": [
    {
     "name": "stdout",
     "output_type": "stream",
     "text": [
      "Variance-Covariance matrix : Carrier = '1'\n"
     ]
    },
    {
     "data": {
      "text/html": [
       "<div>\n",
       "<style scoped>\n",
       "    .dataframe tbody tr th:only-of-type {\n",
       "        vertical-align: middle;\n",
       "    }\n",
       "\n",
       "    .dataframe tbody tr th {\n",
       "        vertical-align: top;\n",
       "    }\n",
       "\n",
       "    .dataframe thead th {\n",
       "        text-align: right;\n",
       "    }\n",
       "</style>\n",
       "<table border=\"1\" class=\"dataframe\">\n",
       "  <thead>\n",
       "    <tr style=\"text-align: right;\">\n",
       "      <th></th>\n",
       "      <th>Age</th>\n",
       "      <th>creatine_Kinase</th>\n",
       "      <th>Hemopexin</th>\n",
       "      <th>Pyrovate_Kinase</th>\n",
       "    </tr>\n",
       "  </thead>\n",
       "  <tbody>\n",
       "    <tr>\n",
       "      <th>Age</th>\n",
       "      <td>101.873874</td>\n",
       "      <td>-301.687387</td>\n",
       "      <td>1.949270</td>\n",
       "      <td>-37.203501</td>\n",
       "    </tr>\n",
       "    <tr>\n",
       "      <th>creatine_Kinase</th>\n",
       "      <td>-301.687387</td>\n",
       "      <td>50860.829550</td>\n",
       "      <td>378.055005</td>\n",
       "      <td>2419.618125</td>\n",
       "    </tr>\n",
       "    <tr>\n",
       "      <th>Hemopexin</th>\n",
       "      <td>1.949270</td>\n",
       "      <td>378.055005</td>\n",
       "      <td>536.400877</td>\n",
       "      <td>26.582781</td>\n",
       "    </tr>\n",
       "    <tr>\n",
       "      <th>Pyrovate_Kinase</th>\n",
       "      <td>-37.203501</td>\n",
       "      <td>2419.618125</td>\n",
       "      <td>26.582781</td>\n",
       "      <td>270.767389</td>\n",
       "    </tr>\n",
       "  </tbody>\n",
       "</table>\n",
       "</div>"
      ],
      "text/plain": [
       "                        Age  creatine_Kinase   Hemopexin  Pyrovate_Kinase\n",
       "Age              101.873874      -301.687387    1.949270       -37.203501\n",
       "creatine_Kinase -301.687387     50860.829550  378.055005      2419.618125\n",
       "Hemopexin          1.949270       378.055005  536.400877        26.582781\n",
       "Pyrovate_Kinase  -37.203501      2419.618125   26.582781       270.767389"
      ]
     },
     "execution_count": 98,
     "metadata": {},
     "output_type": "execute_result"
    }
   ],
   "source": [
    "print('Variance-Covariance matrix : Carrier = \\'1\\'')\n",
    "Y.cov()"
   ]
  },
  {
   "cell_type": "code",
   "execution_count": 122,
   "metadata": {},
   "outputs": [
    {
     "data": {
      "text/html": [
       "<div>\n",
       "<style scoped>\n",
       "    .dataframe tbody tr th:only-of-type {\n",
       "        vertical-align: middle;\n",
       "    }\n",
       "\n",
       "    .dataframe tbody tr th {\n",
       "        vertical-align: top;\n",
       "    }\n",
       "\n",
       "    .dataframe thead th {\n",
       "        text-align: right;\n",
       "    }\n",
       "</style>\n",
       "<table border=\"1\" class=\"dataframe\">\n",
       "  <thead>\n",
       "    <tr style=\"text-align: right;\">\n",
       "      <th></th>\n",
       "      <th>T2</th>\n",
       "      <th>F</th>\n",
       "      <th>df1</th>\n",
       "      <th>df2</th>\n",
       "      <th>pval</th>\n",
       "    </tr>\n",
       "  </thead>\n",
       "  <tbody>\n",
       "    <tr>\n",
       "      <th>hotelling</th>\n",
       "      <td>176.642699</td>\n",
       "      <td>43.520665</td>\n",
       "      <td>4</td>\n",
       "      <td>204</td>\n",
       "      <td>2.235356e-26</td>\n",
       "    </tr>\n",
       "  </tbody>\n",
       "</table>\n",
       "</div>"
      ],
      "text/plain": [
       "                   T2          F  df1  df2          pval\n",
       "hotelling  176.642699  43.520665    4  204  2.235356e-26"
      ]
     },
     "execution_count": 122,
     "metadata": {},
     "output_type": "execute_result"
    }
   ],
   "source": [
    "ans = pg.multivariate_ttest(X, Y)\n",
    "ans"
   ]
  },
  {
   "cell_type": "code",
   "execution_count": 121,
   "metadata": {},
   "outputs": [
    {
     "name": "stdout",
     "output_type": "stream",
     "text": [
      "Reject null hypothesis that the population mean vectors for the 2 groups are equal\n"
     ]
    }
   ],
   "source": [
    "alpha = 0.05\n",
    "p = ans['pval'][0]\n",
    "if p < alpha:\n",
    "    print('Reject null hypothesis that the population mean vectors for the 2 groups are equal')\n",
    "else:\n",
    "    print('Do not reject null hypothesis that the population mean vectors for the 2 groups are equal')"
   ]
  },
  {
   "cell_type": "markdown",
   "metadata": {},
   "source": [
    "# Logistic regression "
   ]
  },
  {
   "cell_type": "code",
   "execution_count": 135,
   "metadata": {},
   "outputs": [
    {
     "name": "stdout",
     "output_type": "stream",
     "text": [
      "Optimization terminated successfully.\n",
      "         Current function value: 0.267681\n",
      "         Iterations 10\n"
     ]
    }
   ],
   "source": [
    "formula = ('Carrier ~ Age + creatine_Kinase + Hemopexin + Pyrovate_Kinase')\n",
    "model = logit(formula = formula, data = data).fit()"
   ]
  },
  {
   "cell_type": "code",
   "execution_count": 136,
   "metadata": {},
   "outputs": [
    {
     "data": {
      "text/html": [
       "<table class=\"simpletable\">\n",
       "<caption>Logit Regression Results</caption>\n",
       "<tr>\n",
       "  <th>Dep. Variable:</th>        <td>Carrier</td>     <th>  No. Observations:  </th>  <td>   209</td>  \n",
       "</tr>\n",
       "<tr>\n",
       "  <th>Model:</th>                 <td>Logit</td>      <th>  Df Residuals:      </th>  <td>   204</td>  \n",
       "</tr>\n",
       "<tr>\n",
       "  <th>Method:</th>                 <td>MLE</td>       <th>  Df Model:          </th>  <td>     4</td>  \n",
       "</tr>\n",
       "<tr>\n",
       "  <th>Date:</th>            <td>Sun, 08 Nov 2020</td> <th>  Pseudo R-squ.:     </th>  <td>0.5899</td>  \n",
       "</tr>\n",
       "<tr>\n",
       "  <th>Time:</th>                <td>18:52:41</td>     <th>  Log-Likelihood:    </th> <td> -55.945</td> \n",
       "</tr>\n",
       "<tr>\n",
       "  <th>converged:</th>             <td>True</td>       <th>  LL-Null:           </th> <td> -136.43</td> \n",
       "</tr>\n",
       "<tr>\n",
       "  <th>Covariance Type:</th>     <td>nonrobust</td>    <th>  LLR p-value:       </th> <td>9.096e-34</td>\n",
       "</tr>\n",
       "</table>\n",
       "<table class=\"simpletable\">\n",
       "<tr>\n",
       "         <td></td>            <th>coef</th>     <th>std err</th>      <th>z</th>      <th>P>|z|</th>  <th>[0.025</th>    <th>0.975]</th>  \n",
       "</tr>\n",
       "<tr>\n",
       "  <th>Intercept</th>       <td>  -12.2006</td> <td>    2.081</td> <td>   -5.864</td> <td> 0.000</td> <td>  -16.278</td> <td>   -8.123</td>\n",
       "</tr>\n",
       "<tr>\n",
       "  <th>Age</th>             <td>    0.1815</td> <td>    0.040</td> <td>    4.589</td> <td> 0.000</td> <td>    0.104</td> <td>    0.259</td>\n",
       "</tr>\n",
       "<tr>\n",
       "  <th>creatine_Kinase</th> <td>    0.0413</td> <td>    0.011</td> <td>    3.738</td> <td> 0.000</td> <td>    0.020</td> <td>    0.063</td>\n",
       "</tr>\n",
       "<tr>\n",
       "  <th>Hemopexin</th>       <td>    0.0096</td> <td>    0.013</td> <td>    0.756</td> <td> 0.450</td> <td>   -0.015</td> <td>    0.034</td>\n",
       "</tr>\n",
       "<tr>\n",
       "  <th>Pyrovate_Kinase</th> <td>    0.1675</td> <td>    0.052</td> <td>    3.221</td> <td> 0.001</td> <td>    0.066</td> <td>    0.269</td>\n",
       "</tr>\n",
       "</table>"
      ],
      "text/plain": [
       "<class 'statsmodels.iolib.summary.Summary'>\n",
       "\"\"\"\n",
       "                           Logit Regression Results                           \n",
       "==============================================================================\n",
       "Dep. Variable:                Carrier   No. Observations:                  209\n",
       "Model:                          Logit   Df Residuals:                      204\n",
       "Method:                           MLE   Df Model:                            4\n",
       "Date:                Sun, 08 Nov 2020   Pseudo R-squ.:                  0.5899\n",
       "Time:                        18:52:41   Log-Likelihood:                -55.945\n",
       "converged:                       True   LL-Null:                       -136.43\n",
       "Covariance Type:            nonrobust   LLR p-value:                 9.096e-34\n",
       "===================================================================================\n",
       "                      coef    std err          z      P>|z|      [0.025      0.975]\n",
       "-----------------------------------------------------------------------------------\n",
       "Intercept         -12.2006      2.081     -5.864      0.000     -16.278      -8.123\n",
       "Age                 0.1815      0.040      4.589      0.000       0.104       0.259\n",
       "creatine_Kinase     0.0413      0.011      3.738      0.000       0.020       0.063\n",
       "Hemopexin           0.0096      0.013      0.756      0.450      -0.015       0.034\n",
       "Pyrovate_Kinase     0.1675      0.052      3.221      0.001       0.066       0.269\n",
       "===================================================================================\n",
       "\"\"\""
      ]
     },
     "execution_count": 136,
     "metadata": {},
     "output_type": "execute_result"
    }
   ],
   "source": [
    "model.summary()"
   ]
  },
  {
   "cell_type": "code",
   "execution_count": 137,
   "metadata": {},
   "outputs": [
    {
     "name": "stdout",
     "output_type": "stream",
     "text": [
      "Predicted    0   1  All\n",
      "Actual                 \n",
      "0          130   4  134\n",
      "1           18  57   75\n",
      "All        148  61  209\n"
     ]
    }
   ],
   "source": [
    "prediction = model.predict(exog = data)\n",
    "cutoff = 0.5\n",
    "y_prediction = np.where(prediction > cutoff, 1, 0)\n",
    "y_actual = data['Carrier']\n",
    "conf_matrix = pd.crosstab(y_actual, y_prediction, rownames = ['Actual'], colnames = ['Predicted'], margins = True)\n",
    "print(conf_matrix)"
   ]
  },
  {
   "cell_type": "code",
   "execution_count": 139,
   "metadata": {},
   "outputs": [
    {
     "name": "stdout",
     "output_type": "stream",
     "text": [
      "Accuracy: 89.47%\n"
     ]
    }
   ],
   "source": [
    "accuracy = accuracy_score(y_actual, y_prediction)*100\n",
    "print('Accuracy: %.2f' % accuracy + '%')"
   ]
  },
  {
   "cell_type": "markdown",
   "metadata": {},
   "source": [
    "# Discriminant analysis"
   ]
  },
  {
   "cell_type": "code",
   "execution_count": 241,
   "metadata": {},
   "outputs": [
    {
     "data": {
      "text/html": [
       "<div>\n",
       "<style scoped>\n",
       "    .dataframe tbody tr th:only-of-type {\n",
       "        vertical-align: middle;\n",
       "    }\n",
       "\n",
       "    .dataframe tbody tr th {\n",
       "        vertical-align: top;\n",
       "    }\n",
       "\n",
       "    .dataframe thead th {\n",
       "        text-align: right;\n",
       "    }\n",
       "</style>\n",
       "<table border=\"1\" class=\"dataframe\">\n",
       "  <thead>\n",
       "    <tr style=\"text-align: right;\">\n",
       "      <th></th>\n",
       "      <th>creatine_Kinase</th>\n",
       "      <th>Hemopexin</th>\n",
       "      <th>Pyrovate_Kinase</th>\n",
       "      <th>Aggrp</th>\n",
       "    </tr>\n",
       "  </thead>\n",
       "  <tbody>\n",
       "    <tr>\n",
       "      <th>0</th>\n",
       "      <td>22.0</td>\n",
       "      <td>99.0</td>\n",
       "      <td>11.0</td>\n",
       "      <td>0</td>\n",
       "    </tr>\n",
       "    <tr>\n",
       "      <th>1</th>\n",
       "      <td>29.0</td>\n",
       "      <td>94.0</td>\n",
       "      <td>12.0</td>\n",
       "      <td>1</td>\n",
       "    </tr>\n",
       "    <tr>\n",
       "      <th>2</th>\n",
       "      <td>22.0</td>\n",
       "      <td>85.5</td>\n",
       "      <td>15.0</td>\n",
       "      <td>0</td>\n",
       "    </tr>\n",
       "    <tr>\n",
       "      <th>3</th>\n",
       "      <td>41.0</td>\n",
       "      <td>87.3</td>\n",
       "      <td>15.0</td>\n",
       "      <td>0</td>\n",
       "    </tr>\n",
       "    <tr>\n",
       "      <th>4</th>\n",
       "      <td>28.0</td>\n",
       "      <td>93.5</td>\n",
       "      <td>7.0</td>\n",
       "      <td>0</td>\n",
       "    </tr>\n",
       "  </tbody>\n",
       "</table>\n",
       "</div>"
      ],
      "text/plain": [
       "   creatine_Kinase  Hemopexin  Pyrovate_Kinase  Aggrp\n",
       "0             22.0       99.0             11.0      0\n",
       "1             29.0       94.0             12.0      1\n",
       "2             22.0       85.5             15.0      0\n",
       "3             41.0       87.3             15.0      0\n",
       "4             28.0       93.5              7.0      0"
      ]
     },
     "execution_count": 241,
     "metadata": {},
     "output_type": "execute_result"
    }
   ],
   "source": [
    "aggrp = []\n",
    "d = data.copy()\n",
    "for i in d.index:\n",
    "    if d['Age'][i] <= 30:\n",
    "        aggrp.append(0)\n",
    "    else:\n",
    "        aggrp.append(1)\n",
    "d['Aggrp'] = aggrp\n",
    "d = d.drop(['Age','Carrier'], axis=1)\n",
    "d.head()"
   ]
  },
  {
   "cell_type": "code",
   "execution_count": 242,
   "metadata": {},
   "outputs": [
    {
     "data": {
      "text/plain": [
       "1    109\n",
       "0    100\n",
       "Name: Aggrp, dtype: int64"
      ]
     },
     "execution_count": 242,
     "metadata": {},
     "output_type": "execute_result"
    }
   ],
   "source": [
    "d['Aggrp'].value_counts()"
   ]
  },
  {
   "cell_type": "code",
   "execution_count": 243,
   "metadata": {},
   "outputs": [],
   "source": [
    "X = d[['creatine_Kinase','Hemopexin', 'Pyrovate_Kinase']]\n",
    "Y = d['Aggrp']\n",
    "LDA(n_components=1)\n",
    "model = lda.fit(X, Y)"
   ]
  },
  {
   "cell_type": "code",
   "execution_count": 244,
   "metadata": {},
   "outputs": [
    {
     "name": "stdout",
     "output_type": "stream",
     "text": [
      "[[0.00166447 0.0093969  0.00754929]]\n"
     ]
    }
   ],
   "source": [
    "print(model.coef_)"
   ]
  },
  {
   "cell_type": "code",
   "execution_count": 245,
   "metadata": {},
   "outputs": [
    {
     "data": {
      "text/plain": [
       "0.6697247706422018"
      ]
     },
     "execution_count": 245,
     "metadata": {},
     "output_type": "execute_result"
    }
   ],
   "source": [
    "precision_score(Y,pred)"
   ]
  },
  {
   "cell_type": "code",
   "execution_count": 246,
   "metadata": {},
   "outputs": [
    {
     "name": "stdout",
     "output_type": "stream",
     "text": [
      "Predicted    0    1  All\n",
      "Actual                  \n",
      "0           64   36  100\n",
      "1           36   73  109\n",
      "All        100  109  209\n"
     ]
    }
   ],
   "source": [
    "pred=model.predict(X)\n",
    "conf_matrix = pd.crosstab(Y, pred, rownames = ['Actual'], colnames = ['Predicted'], margins = True)\n",
    "print(conf_matrix)"
   ]
  },
  {
   "cell_type": "code",
   "execution_count": 247,
   "metadata": {},
   "outputs": [
    {
     "name": "stdout",
     "output_type": "stream",
     "text": [
      "Accuracy: 65.55%\n",
      "Misclassification rate: 34.45%\n"
     ]
    }
   ],
   "source": [
    "accuracy = accuracy_score(Y, pred)*100\n",
    "mis = 100 - accuracy\n",
    "print('Accuracy: %.2f' % accuracy + '%')\n",
    "print('Misclassification rate: %.2f' % mis + '%')"
   ]
  },
  {
   "cell_type": "markdown",
   "metadata": {},
   "source": [
    "# K-means classification"
   ]
  },
  {
   "cell_type": "markdown",
   "metadata": {},
   "source": [
    "## Effect of age on creatine kinase, pyrovate kinase and hemopexin"
   ]
  },
  {
   "cell_type": "code",
   "execution_count": 298,
   "metadata": {},
   "outputs": [
    {
     "data": {
      "text/html": [
       "<div>\n",
       "<style scoped>\n",
       "    .dataframe tbody tr th:only-of-type {\n",
       "        vertical-align: middle;\n",
       "    }\n",
       "\n",
       "    .dataframe tbody tr th {\n",
       "        vertical-align: top;\n",
       "    }\n",
       "\n",
       "    .dataframe thead th {\n",
       "        text-align: right;\n",
       "    }\n",
       "</style>\n",
       "<table border=\"1\" class=\"dataframe\">\n",
       "  <thead>\n",
       "    <tr style=\"text-align: right;\">\n",
       "      <th></th>\n",
       "      <th>creatine_Kinase</th>\n",
       "      <th>Hemopexin</th>\n",
       "      <th>Pyrovate_Kinase</th>\n",
       "    </tr>\n",
       "  </thead>\n",
       "  <tbody>\n",
       "    <tr>\n",
       "      <th>0</th>\n",
       "      <td>22.0</td>\n",
       "      <td>99.0</td>\n",
       "      <td>11.0</td>\n",
       "    </tr>\n",
       "    <tr>\n",
       "      <th>1</th>\n",
       "      <td>29.0</td>\n",
       "      <td>94.0</td>\n",
       "      <td>12.0</td>\n",
       "    </tr>\n",
       "    <tr>\n",
       "      <th>2</th>\n",
       "      <td>22.0</td>\n",
       "      <td>85.5</td>\n",
       "      <td>15.0</td>\n",
       "    </tr>\n",
       "    <tr>\n",
       "      <th>3</th>\n",
       "      <td>41.0</td>\n",
       "      <td>87.3</td>\n",
       "      <td>15.0</td>\n",
       "    </tr>\n",
       "    <tr>\n",
       "      <th>4</th>\n",
       "      <td>28.0</td>\n",
       "      <td>93.5</td>\n",
       "      <td>7.0</td>\n",
       "    </tr>\n",
       "  </tbody>\n",
       "</table>\n",
       "</div>"
      ],
      "text/plain": [
       "   creatine_Kinase  Hemopexin  Pyrovate_Kinase\n",
       "0             22.0       99.0             11.0\n",
       "1             29.0       94.0             12.0\n",
       "2             22.0       85.5             15.0\n",
       "3             41.0       87.3             15.0\n",
       "4             28.0       93.5              7.0"
      ]
     },
     "execution_count": 298,
     "metadata": {},
     "output_type": "execute_result"
    }
   ],
   "source": [
    "X = data.drop(['Age','Carrier'], axis=1)\n",
    "X.head()"
   ]
  },
  {
   "cell_type": "code",
   "execution_count": 303,
   "metadata": {},
   "outputs": [
    {
     "data": {
      "text/plain": [
       "array([0, 0, 0, 0, 0, 0, 0, 0, 0, 0, 0, 0, 0, 0, 0, 0, 0, 0, 0, 0, 0, 0,\n",
       "       0, 0, 0, 0, 0, 0, 0, 0, 0, 0, 0, 0, 0, 0, 0, 0, 0, 0, 0, 0, 0, 0,\n",
       "       0, 0, 0, 0, 0, 0, 0, 0, 0, 0, 0, 0, 0, 0, 0, 0, 0, 0, 0, 0, 0, 0,\n",
       "       0, 0, 1, 0, 0, 0, 0, 0, 0, 0, 0, 0, 0, 0, 0, 0, 0, 0, 0, 0, 0, 0,\n",
       "       0, 0, 0, 0, 0, 0, 1, 0, 0, 0, 0, 0, 0, 0, 0, 0, 0, 0, 0, 0, 0, 0,\n",
       "       0, 0, 0, 0, 0, 0, 0, 0, 0, 0, 0, 0, 1, 1, 0, 0, 0, 0, 0, 1, 0, 0,\n",
       "       0, 0, 1, 1, 0, 0, 0, 0, 0, 0, 0, 0, 0, 0, 0, 0, 0, 0, 0, 0, 0, 0,\n",
       "       0, 0, 0, 0, 0, 0, 0, 0, 1, 0, 0, 0, 0, 0, 0, 0, 0, 0, 0, 0, 0, 0,\n",
       "       0, 0, 0, 0, 1, 0, 0, 0, 0, 0, 1, 0, 0, 0, 0, 0, 0, 0, 0, 0, 0, 0,\n",
       "       0, 0, 0, 0, 0, 0, 1, 1, 0, 0, 0])"
      ]
     },
     "execution_count": 303,
     "metadata": {},
     "output_type": "execute_result"
    }
   ],
   "source": [
    "kmeans = KMeans(n_clusters=2, random_state=0)\n",
    "y_kmean = kmeans.fit_predict(X)\n",
    "y_kmean"
   ]
  },
  {
   "cell_type": "code",
   "execution_count": 304,
   "metadata": {},
   "outputs": [
    {
     "data": {
      "text/plain": [
       "Text(0, 0.5, 'hemopexin')"
      ]
     },
     "execution_count": 304,
     "metadata": {},
     "output_type": "execute_result"
    },
    {
     "data": {
      "image/png": "[encoded data removed]",
      "text/plain": [
       "<Figure size 432x288 with 1 Axes>"
      ]
     },
     "metadata": {
      "needs_background": "light"
     },
     "output_type": "display_data"
    }
   ],
   "source": [
    "plt.scatter(X.iloc[:, 0], X.iloc[:, 1], c=y_kmean, s=50, cmap='viridis')\n",
    "\n",
    "centers = kmeans.cluster_centers_\n",
    "plt.scatter(centers[:, 0], centers[:, 1], c='black', s=200, alpha=0.5)\n",
    "plt.xlabel('creatine kinase')\n",
    "plt.ylabel('hemopexin')"
   ]
  },
  {
   "cell_type": "code",
   "execution_count": 310,
   "metadata": {},
   "outputs": [
    {
     "name": "stdout",
     "output_type": "stream",
     "text": [
      "Number of points in cluster 1 is 12\n",
      "Number of points in cluster 0 is 197\n"
     ]
    }
   ],
   "source": [
    "c = 0\n",
    "for i in range(data.shape[0]):\n",
    "    if y_kmean[i] == 1:\n",
    "        c = c + 1\n",
    "print('Number of points in cluster 1 is', c)\n",
    "print('Number of points in cluster 0 is', data.shape[0]-c)"
   ]
  },
  {
   "cell_type": "code",
   "execution_count": 313,
   "metadata": {},
   "outputs": [
    {
     "name": "stdout",
     "output_type": "stream",
     "text": [
      "Mean age of cluster 0 is 31.96954314720812\n",
      "Mean age of cluster 1 is 35.25\n"
     ]
    }
   ],
   "source": [
    "c0 = 0\n",
    "c1 = 0\n",
    "for i in range(data.shape[0]):\n",
    "    if y_kmean[i] == 0:\n",
    "        c0 = c0 + data['Age'][i]\n",
    "    else:\n",
    "        c1 = c1 + data['Age'][i]\n",
    "c1 = c1 / c\n",
    "c0 = c0 / (data.shape[0]-c)\n",
    "print('Mean age of cluster 0 is', c0)\n",
    "print('Mean age of cluster 1 is', c1)"
   ]
  },
  {
   "cell_type": "markdown",
   "metadata": {},
   "source": [
    "## Analysing whether a person is a carrier or not"
   ]
  },
  {
   "cell_type": "code",
   "execution_count": 292,
   "metadata": {},
   "outputs": [
    {
     "data": {
      "text/html": [
       "<div>\n",
       "<style scoped>\n",
       "    .dataframe tbody tr th:only-of-type {\n",
       "        vertical-align: middle;\n",
       "    }\n",
       "\n",
       "    .dataframe tbody tr th {\n",
       "        vertical-align: top;\n",
       "    }\n",
       "\n",
       "    .dataframe thead th {\n",
       "        text-align: right;\n",
       "    }\n",
       "</style>\n",
       "<table border=\"1\" class=\"dataframe\">\n",
       "  <thead>\n",
       "    <tr style=\"text-align: right;\">\n",
       "      <th></th>\n",
       "      <th>Age</th>\n",
       "      <th>creatine_Kinase</th>\n",
       "      <th>Hemopexin</th>\n",
       "      <th>Pyrovate_Kinase</th>\n",
       "    </tr>\n",
       "  </thead>\n",
       "  <tbody>\n",
       "    <tr>\n",
       "      <th>0</th>\n",
       "      <td>27</td>\n",
       "      <td>22.0</td>\n",
       "      <td>99.0</td>\n",
       "      <td>11.0</td>\n",
       "    </tr>\n",
       "    <tr>\n",
       "      <th>1</th>\n",
       "      <td>31</td>\n",
       "      <td>29.0</td>\n",
       "      <td>94.0</td>\n",
       "      <td>12.0</td>\n",
       "    </tr>\n",
       "    <tr>\n",
       "      <th>2</th>\n",
       "      <td>22</td>\n",
       "      <td>22.0</td>\n",
       "      <td>85.5</td>\n",
       "      <td>15.0</td>\n",
       "    </tr>\n",
       "    <tr>\n",
       "      <th>3</th>\n",
       "      <td>25</td>\n",
       "      <td>41.0</td>\n",
       "      <td>87.3</td>\n",
       "      <td>15.0</td>\n",
       "    </tr>\n",
       "    <tr>\n",
       "      <th>4</th>\n",
       "      <td>26</td>\n",
       "      <td>28.0</td>\n",
       "      <td>93.5</td>\n",
       "      <td>7.0</td>\n",
       "    </tr>\n",
       "  </tbody>\n",
       "</table>\n",
       "</div>"
      ],
      "text/plain": [
       "   Age  creatine_Kinase  Hemopexin  Pyrovate_Kinase\n",
       "0   27             22.0       99.0             11.0\n",
       "1   31             29.0       94.0             12.0\n",
       "2   22             22.0       85.5             15.0\n",
       "3   25             41.0       87.3             15.0\n",
       "4   26             28.0       93.5              7.0"
      ]
     },
     "execution_count": 292,
     "metadata": {},
     "output_type": "execute_result"
    }
   ],
   "source": [
    "X1 = data.drop(['Carrier'], axis=1)\n",
    "X1.head()"
   ]
  },
  {
   "cell_type": "code",
   "execution_count": 259,
   "metadata": {},
   "outputs": [
    {
     "data": {
      "text/plain": [
       "array([0, 0, 0, 0, 0, 0, 0, 0, 0, 0, 0, 0, 0, 0, 0, 0, 0, 0, 0, 0, 0, 0,\n",
       "       0, 0, 0, 0, 0, 0, 0, 0, 0, 0, 0, 0, 0, 0, 0, 0, 0, 0, 0, 0, 0, 0,\n",
       "       0, 0, 0, 0, 0, 0, 0, 0, 0, 0, 0, 0, 0, 0, 0, 0, 0, 0, 0, 0, 0, 0,\n",
       "       0, 0, 1, 0, 0, 0, 0, 0, 0, 0, 0, 0, 0, 0, 0, 0, 0, 0, 0, 0, 0, 0,\n",
       "       0, 0, 0, 0, 0, 0, 1, 0, 0, 0, 0, 0, 0, 0, 0, 0, 0, 0, 0, 0, 0, 0,\n",
       "       0, 0, 0, 0, 0, 0, 0, 0, 0, 0, 0, 0, 1, 1, 0, 0, 0, 0, 0, 1, 0, 0,\n",
       "       0, 0, 1, 1, 0, 0, 0, 0, 0, 0, 0, 0, 0, 0, 0, 0, 0, 0, 0, 0, 0, 0,\n",
       "       0, 0, 0, 0, 0, 0, 0, 0, 1, 0, 0, 0, 0, 0, 0, 0, 0, 0, 0, 0, 0, 0,\n",
       "       0, 0, 0, 0, 1, 0, 0, 0, 0, 0, 1, 0, 0, 0, 0, 0, 0, 0, 0, 0, 0, 0,\n",
       "       0, 0, 0, 0, 0, 0, 1, 1, 0, 0, 0])"
      ]
     },
     "execution_count": 259,
     "metadata": {},
     "output_type": "execute_result"
    }
   ],
   "source": [
    "kmeans = KMeans(n_clusters=2, random_state=0)\n",
    "y_kmeans = kmeans.fit_predict(X1)\n",
    "y_kmeans"
   ]
  },
  {
   "cell_type": "code",
   "execution_count": 285,
   "metadata": {},
   "outputs": [
    {
     "data": {
      "text/plain": [
       "Text(0, 0.5, 'creatine kinase')"
      ]
     },
     "execution_count": 285,
     "metadata": {},
     "output_type": "execute_result"
    },
    {
     "data": {
      "image/png": "[encoded data removed]",
      "text/plain": [
       "<Figure size 432x288 with 1 Axes>"
      ]
     },
     "metadata": {
      "needs_background": "light"
     },
     "output_type": "display_data"
    }
   ],
   "source": [
    "plt.scatter(X1.iloc[:, 0], X1.iloc[:, 1], c=y_kmeans, s=50, cmap='viridis')\n",
    "\n",
    "centers = kmeans.cluster_centers_\n",
    "plt.scatter(centers[:, 0], centers[:, 1], c='black', s=200, alpha=0.5)\n",
    "plt.xlabel('Age')\n",
    "plt.ylabel('creatine kinase')"
   ]
  },
  {
   "cell_type": "code",
   "execution_count": 309,
   "metadata": {},
   "outputs": [
    {
     "name": "stdout",
     "output_type": "stream",
     "text": [
      "Number of points in cluster 1 is 12\n",
      "Number of points in cluster 0 is 197\n"
     ]
    }
   ],
   "source": [
    "c = 0\n",
    "for i in range(data.shape[0]):\n",
    "    if y_kmeans[i] == 1:\n",
    "        c = c + 1\n",
    "print('Number of points in cluster 1 is', c)\n",
    "print('Number of points in cluster 0 is', data.shape[0]-c)        "
   ]
  },
  {
   "cell_type": "code",
   "execution_count": 283,
   "metadata": {},
   "outputs": [
    {
     "name": "stdout",
     "output_type": "stream",
     "text": [
      "Predicted    0   1  All\n",
      "Actual                 \n",
      "0          134   0  134\n",
      "1           63  12   75\n",
      "All        197  12  209\n"
     ]
    }
   ],
   "source": [
    "Y = data['Carrier']\n",
    "pred = y_kmeans\n",
    "conf_matrix = pd.crosstab(Y, pred, rownames = ['Actual'], colnames = ['Predicted'], margins = True)\n",
    "print(conf_matrix)"
   ]
  }
 ],
 "metadata": {
  "kernelspec": {
   "display_name": "Python 3",
   "language": "python",
   "name": "python3"
  },
  "language_info": {
   "codemirror_mode": {
    "name": "ipython",
    "version": 3
   },
   "file_extension": ".py",
   "mimetype": "text/x-python",
   "name": "python",
   "nbconvert_exporter": "python",
   "pygments_lexer": "ipython3",
   "version": "3.7.3"
  }
 },
 "nbformat": 4,
 "nbformat_minor": 2
}
